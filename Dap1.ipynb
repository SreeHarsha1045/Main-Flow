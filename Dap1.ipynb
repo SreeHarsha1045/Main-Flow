{
 "cells": [
  {
   "cell_type": "markdown",
   "id": "495b32bf",
   "metadata": {},
   "source": [
    "# Data Loading "
   ]
  },
  {
   "cell_type": "code",
   "execution_count": 7,
   "id": "ff0479ff",
   "metadata": {},
   "outputs": [],
   "source": [
    "#import all neccessary Modules\n",
    "import pandas as pd\n",
    "import numpy as np\n",
    "import matplotlib.pyplot as plt\n",
    "import seaborn as sns"
   ]
  },
  {
   "cell_type": "code",
   "execution_count": 10,
   "id": "df585c2a",
   "metadata": {},
   "outputs": [
    {
     "data": {
      "text/html": [
       "<div>\n",
       "<style scoped>\n",
       "    .dataframe tbody tr th:only-of-type {\n",
       "        vertical-align: middle;\n",
       "    }\n",
       "\n",
       "    .dataframe tbody tr th {\n",
       "        vertical-align: top;\n",
       "    }\n",
       "\n",
       "    .dataframe thead th {\n",
       "        text-align: right;\n",
       "    }\n",
       "</style>\n",
       "<table border=\"1\" class=\"dataframe\">\n",
       "  <thead>\n",
       "    <tr style=\"text-align: right;\">\n",
       "      <th></th>\n",
       "      <th>school</th>\n",
       "      <th>sex</th>\n",
       "      <th>age</th>\n",
       "      <th>address</th>\n",
       "      <th>famsize</th>\n",
       "      <th>Pstatus</th>\n",
       "      <th>Medu</th>\n",
       "      <th>Fedu</th>\n",
       "      <th>Mjob</th>\n",
       "      <th>Fjob</th>\n",
       "      <th>...</th>\n",
       "      <th>famrel</th>\n",
       "      <th>freetime</th>\n",
       "      <th>goout</th>\n",
       "      <th>Dalc</th>\n",
       "      <th>Walc</th>\n",
       "      <th>health</th>\n",
       "      <th>absences</th>\n",
       "      <th>G1</th>\n",
       "      <th>G2</th>\n",
       "      <th>G3</th>\n",
       "    </tr>\n",
       "  </thead>\n",
       "  <tbody>\n",
       "    <tr>\n",
       "      <th>0</th>\n",
       "      <td>GP</td>\n",
       "      <td>F</td>\n",
       "      <td>18</td>\n",
       "      <td>U</td>\n",
       "      <td>GT3</td>\n",
       "      <td>A</td>\n",
       "      <td>4</td>\n",
       "      <td>4</td>\n",
       "      <td>at_home</td>\n",
       "      <td>teacher</td>\n",
       "      <td>...</td>\n",
       "      <td>4</td>\n",
       "      <td>3</td>\n",
       "      <td>4</td>\n",
       "      <td>1</td>\n",
       "      <td>1</td>\n",
       "      <td>3</td>\n",
       "      <td>6</td>\n",
       "      <td>5</td>\n",
       "      <td>6</td>\n",
       "      <td>6</td>\n",
       "    </tr>\n",
       "    <tr>\n",
       "      <th>1</th>\n",
       "      <td>GP</td>\n",
       "      <td>F</td>\n",
       "      <td>17</td>\n",
       "      <td>U</td>\n",
       "      <td>GT3</td>\n",
       "      <td>T</td>\n",
       "      <td>1</td>\n",
       "      <td>1</td>\n",
       "      <td>at_home</td>\n",
       "      <td>other</td>\n",
       "      <td>...</td>\n",
       "      <td>5</td>\n",
       "      <td>3</td>\n",
       "      <td>3</td>\n",
       "      <td>1</td>\n",
       "      <td>1</td>\n",
       "      <td>3</td>\n",
       "      <td>4</td>\n",
       "      <td>5</td>\n",
       "      <td>5</td>\n",
       "      <td>6</td>\n",
       "    </tr>\n",
       "    <tr>\n",
       "      <th>2</th>\n",
       "      <td>GP</td>\n",
       "      <td>F</td>\n",
       "      <td>15</td>\n",
       "      <td>U</td>\n",
       "      <td>LE3</td>\n",
       "      <td>T</td>\n",
       "      <td>1</td>\n",
       "      <td>1</td>\n",
       "      <td>at_home</td>\n",
       "      <td>other</td>\n",
       "      <td>...</td>\n",
       "      <td>4</td>\n",
       "      <td>3</td>\n",
       "      <td>2</td>\n",
       "      <td>2</td>\n",
       "      <td>3</td>\n",
       "      <td>3</td>\n",
       "      <td>10</td>\n",
       "      <td>7</td>\n",
       "      <td>8</td>\n",
       "      <td>10</td>\n",
       "    </tr>\n",
       "    <tr>\n",
       "      <th>3</th>\n",
       "      <td>GP</td>\n",
       "      <td>F</td>\n",
       "      <td>15</td>\n",
       "      <td>U</td>\n",
       "      <td>GT3</td>\n",
       "      <td>T</td>\n",
       "      <td>4</td>\n",
       "      <td>2</td>\n",
       "      <td>health</td>\n",
       "      <td>services</td>\n",
       "      <td>...</td>\n",
       "      <td>3</td>\n",
       "      <td>2</td>\n",
       "      <td>2</td>\n",
       "      <td>1</td>\n",
       "      <td>1</td>\n",
       "      <td>5</td>\n",
       "      <td>2</td>\n",
       "      <td>15</td>\n",
       "      <td>14</td>\n",
       "      <td>15</td>\n",
       "    </tr>\n",
       "    <tr>\n",
       "      <th>4</th>\n",
       "      <td>GP</td>\n",
       "      <td>F</td>\n",
       "      <td>16</td>\n",
       "      <td>U</td>\n",
       "      <td>GT3</td>\n",
       "      <td>T</td>\n",
       "      <td>3</td>\n",
       "      <td>3</td>\n",
       "      <td>other</td>\n",
       "      <td>other</td>\n",
       "      <td>...</td>\n",
       "      <td>4</td>\n",
       "      <td>3</td>\n",
       "      <td>2</td>\n",
       "      <td>1</td>\n",
       "      <td>2</td>\n",
       "      <td>5</td>\n",
       "      <td>4</td>\n",
       "      <td>6</td>\n",
       "      <td>10</td>\n",
       "      <td>10</td>\n",
       "    </tr>\n",
       "  </tbody>\n",
       "</table>\n",
       "<p>5 rows × 33 columns</p>\n",
       "</div>"
      ],
      "text/plain": [
       "  school sex  age address famsize Pstatus  Medu  Fedu     Mjob      Fjob  ...  \\\n",
       "0     GP   F   18       U     GT3       A     4     4  at_home   teacher  ...   \n",
       "1     GP   F   17       U     GT3       T     1     1  at_home     other  ...   \n",
       "2     GP   F   15       U     LE3       T     1     1  at_home     other  ...   \n",
       "3     GP   F   15       U     GT3       T     4     2   health  services  ...   \n",
       "4     GP   F   16       U     GT3       T     3     3    other     other  ...   \n",
       "\n",
       "  famrel freetime  goout  Dalc  Walc health absences  G1  G2  G3  \n",
       "0      4        3      4     1     1      3        6   5   6   6  \n",
       "1      5        3      3     1     1      3        4   5   5   6  \n",
       "2      4        3      2     2     3      3       10   7   8  10  \n",
       "3      3        2      2     1     1      5        2  15  14  15  \n",
       "4      4        3      2     1     2      5        4   6  10  10  \n",
       "\n",
       "[5 rows x 33 columns]"
      ]
     },
     "execution_count": 10,
     "metadata": {},
     "output_type": "execute_result"
    }
   ],
   "source": [
    "file_path = r\"C:\\Users\\SREE HARSHA\\OneDrive\\Documents\\OneDrive\\Desktop\\Internship\\Main Flow\\student-mat.csv\"\n",
    "data = pd.read_csv(file_path, delimiter=\";\")\n",
    "#display the first few rows of the data set\n",
    "data.head()"
   ]
  },
  {
   "cell_type": "markdown",
   "id": "d50b4392",
   "metadata": {},
   "source": [
    "In this step, we load the dataset using pandas. Since the dataset is stored in a CSV file with a semicolon (;) as the delimiter, we specify it while reading the file. We also display the first few rows to understand its structure."
   ]
  },
  {
   "cell_type": "markdown",
   "id": "ca2948b5",
   "metadata": {},
   "source": [
    "# Data Exploration"
   ]
  },
  {
   "cell_type": "code",
   "execution_count": 11,
   "id": "c818337f",
   "metadata": {},
   "outputs": [
    {
     "name": "stdout",
     "output_type": "stream",
     "text": [
      "Missing Values in Each Column:\n",
      " school        0\n",
      "sex           0\n",
      "age           0\n",
      "address       0\n",
      "famsize       0\n",
      "Pstatus       0\n",
      "Medu          0\n",
      "Fedu          0\n",
      "Mjob          0\n",
      "Fjob          0\n",
      "reason        0\n",
      "guardian      0\n",
      "traveltime    0\n",
      "studytime     0\n",
      "failures      0\n",
      "schoolsup     0\n",
      "famsup        0\n",
      "paid          0\n",
      "activities    0\n",
      "nursery       0\n",
      "higher        0\n",
      "internet      0\n",
      "romantic      0\n",
      "famrel        0\n",
      "freetime      0\n",
      "goout         0\n",
      "Dalc          0\n",
      "Walc          0\n",
      "health        0\n",
      "absences      0\n",
      "G1            0\n",
      "G2            0\n",
      "G3            0\n",
      "dtype: int64\n"
     ]
    }
   ],
   "source": [
    "#Find the missing rows in each coloumn\n",
    "print(\"Missing Values in Each Column:\\n\", data.isnull().sum())"
   ]
  },
  {
   "cell_type": "code",
   "execution_count": 12,
   "id": "71e3b247",
   "metadata": {},
   "outputs": [
    {
     "name": "stdout",
     "output_type": "stream",
     "text": [
      "\n",
      "Column Data Types:\n",
      " school        object\n",
      "sex           object\n",
      "age            int64\n",
      "address       object\n",
      "famsize       object\n",
      "Pstatus       object\n",
      "Medu           int64\n",
      "Fedu           int64\n",
      "Mjob          object\n",
      "Fjob          object\n",
      "reason        object\n",
      "guardian      object\n",
      "traveltime     int64\n",
      "studytime      int64\n",
      "failures       int64\n",
      "schoolsup     object\n",
      "famsup        object\n",
      "paid          object\n",
      "activities    object\n",
      "nursery       object\n",
      "higher        object\n",
      "internet      object\n",
      "romantic      object\n",
      "famrel         int64\n",
      "freetime       int64\n",
      "goout          int64\n",
      "Dalc           int64\n",
      "Walc           int64\n",
      "health         int64\n",
      "absences       int64\n",
      "G1             int64\n",
      "G2             int64\n",
      "G3             int64\n",
      "dtype: object\n",
      "\n",
      "Dataset Shape (Rows, Columns): (395, 33)\n"
     ]
    }
   ],
   "source": [
    "# Display column data types\n",
    "print(\"\\nColumn Data Types:\\n\", data.dtypes)\n",
    "# Display dataset size\n",
    "print(\"\\nDataset Shape (Rows, Columns):\", data.shape)"
   ]
  },
  {
   "cell_type": "markdown",
   "id": "41751044",
   "metadata": {},
   "source": [
    "We check for missing values, column data types, and the overall shape of the dataset. This helps in understanding the data and identifying any issues that need cleaning."
   ]
  },
  {
   "cell_type": "markdown",
   "id": "7ee8af16",
   "metadata": {},
   "source": [
    "# Data Cleaning"
   ]
  },
  {
   "cell_type": "code",
   "execution_count": 13,
   "id": "6eb57ebe",
   "metadata": {},
   "outputs": [
    {
     "name": "stdout",
     "output_type": "stream",
     "text": [
      "\n",
      "Dataset Shape After Removing Duplicates: (395, 33)\n"
     ]
    }
   ],
   "source": [
    "# Remove duplicate entries\n",
    "data_cleaned = data.drop_duplicates()\n",
    "\n",
    "# Check dataset size after removing duplicates\n",
    "print(\"\\nDataset Shape After Removing Duplicates:\", data_cleaned.shape)"
   ]
  },
  {
   "cell_type": "markdown",
   "id": "b913ce03",
   "metadata": {},
   "source": [
    "To ensure data consistency, we remove duplicate rows from the dataset. Duplicate entries can lead to incorrect insights, so this step is crucial."
   ]
  },
  {
   "cell_type": "markdown",
   "id": "34a47551",
   "metadata": {},
   "source": [
    "# Data Analysis"
   ]
  },
  {
   "cell_type": "code",
   "execution_count": 14,
   "id": "43587b44",
   "metadata": {},
   "outputs": [
    {
     "name": "stdout",
     "output_type": "stream",
     "text": [
      "\n",
      "Average Score in Math (G3): 10.415189873417722\n"
     ]
    }
   ],
   "source": [
    "# 1. Calculate the average score in math(G3)\n",
    "average_G3 = np.mean(data_cleaned[\"G3\"])\n",
    "print(\"\\nAverage Score in Math (G3):\", average_G3)"
   ]
  },
  {
   "cell_type": "markdown",
   "id": "9a59dc9b",
   "metadata": {},
   "source": [
    "The average final grade (G3) to understand overall student performance."
   ]
  },
  {
   "cell_type": "code",
   "execution_count": 15,
   "id": "1e0d121a",
   "metadata": {},
   "outputs": [
    {
     "name": "stdout",
     "output_type": "stream",
     "text": [
      "Number of Students Scoring Above 15 in G3: 40\n"
     ]
    }
   ],
   "source": [
    "# 2. Count students who scored above 15 in their final grade (G3)\n",
    "students_above_15 = np.sum(data_cleaned[\"G3\"] > 15)\n",
    "print(\"Number of Students Scoring Above 15 in G3:\", students_above_15)"
   ]
  },
  {
   "cell_type": "markdown",
   "id": "d404e549",
   "metadata": {},
   "source": [
    "The number of students scoring above 15 in G3 to determine high-achievers."
   ]
  },
  {
   "cell_type": "code",
   "execution_count": 17,
   "id": "33b3c5b7",
   "metadata": {},
   "outputs": [
    {
     "name": "stdout",
     "output_type": "stream",
     "text": [
      "Correlation Between Study Time and Final Grade (G3): 0.0978196896531963\n"
     ]
    }
   ],
   "source": [
    "# 3. Compute correlation between study time and final grade (G3)\n",
    "correlation_studytime_G3 = data_cleaned[\"studytime\"].corr(data_cleaned[\"G3\"])\n",
    "print(\"Correlation Between Study Time and Final Grade (G3):\", correlation_studytime_G3)"
   ]
  },
  {
   "cell_type": "markdown",
   "id": "f255c451",
   "metadata": {},
   "source": [
    "The correlation between study time and G3, which helps understand if studying longer leads to better grades."
   ]
  },
  {
   "cell_type": "code",
   "execution_count": 18,
   "id": "2de7a315",
   "metadata": {},
   "outputs": [
    {
     "name": "stdout",
     "output_type": "stream",
     "text": [
      "\n",
      "Average Final Grade by Gender:\n",
      " sex\n",
      "F     9.966346\n",
      "M    10.914439\n",
      "Name: G3, dtype: float64\n"
     ]
    }
   ],
   "source": [
    "# 4. Compute average final grade (G3) for each gender\n",
    "average_G3_by_gender = data_cleaned.groupby(\"sex\")[\"G3\"].mean()\n",
    "print(\"\\nAverage Final Grade by Gender:\\n\", average_G3_by_gender)"
   ]
  },
  {
   "cell_type": "markdown",
   "id": "71ffca5d",
   "metadata": {},
   "source": [
    "M has the higher average final grade(G3)"
   ]
  },
  {
   "cell_type": "markdown",
   "id": "4d1127c5",
   "metadata": {},
   "source": [
    "The average G3 by gender to check if there is a significant difference in performance between male and female students."
   ]
  },
  {
   "cell_type": "markdown",
   "id": "b3d74821",
   "metadata": {},
   "source": [
    "# Data Visualization"
   ]
  },
  {
   "cell_type": "code",
   "execution_count": 19,
   "id": "5a11d0b7",
   "metadata": {},
   "outputs": [],
   "source": [
    "#set style\n",
    "sns.set_style(\"whitegrid\")"
   ]
  },
  {
   "cell_type": "code",
   "execution_count": 22,
   "id": "d428198e",
   "metadata": {},
   "outputs": [
    {
     "data": {
      "image/png": "[encoded data removed]",
      "text/plain": [
       "<Figure size 800x500 with 1 Axes>"
      ]
     },
     "metadata": {},
     "output_type": "display_data"
    }
   ],
   "source": [
    "# 1. Histogram of Final Grades (G3)\n",
    "plt.figure(figsize=(8, 5))\n",
    "sns.histplot(data_cleaned[\"G3\"], color=\"blue\")\n",
    "plt.xlabel(\"Final Grade (G3)\")\n",
    "plt.ylabel(\"Frequency\")\n",
    "plt.title(\"Distribution of Final Grades\")\n",
    "plt.show()"
   ]
  },
  {
   "cell_type": "markdown",
   "id": "1437e208",
   "metadata": {},
   "source": [
    "A histogram is plotted to visualize the distribution of students’ final grades. This gives insights into whether grades are normally distributed or skewed."
   ]
  },
  {
   "cell_type": "code",
   "execution_count": 26,
   "id": "f4eb8427",
   "metadata": {},
   "outputs": [
    {
     "data": {
      "image/png": "[encoded data removed]",
      "text/plain": [
       "<Figure size 800x500 with 1 Axes>"
      ]
     },
     "metadata": {},
     "output_type": "display_data"
    }
   ],
   "source": [
    "# 2. Scatter plot between Study Time and Final Grade (G3)\n",
    "plt.figure(figsize=(8, 5))\n",
    "sns.scatterplot(x=data_cleaned[\"studytime\"], y=data_cleaned[\"G3\"], color=\"red\")\n",
    "plt.xlabel(\"Study Time\")\n",
    "plt.ylabel(\"Final Grade (G3)\")\n",
    "plt.title(\"Study Time vs. Final Grade\")\n",
    "plt.show()"
   ]
  },
  {
   "cell_type": "markdown",
   "id": "63c00268",
   "metadata": {},
   "source": [
    "We create a scatter plot to observe the relationship between study time and final grades. This helps determine whether study time has a strong influence on performance."
   ]
  },
  {
   "cell_type": "code",
   "execution_count": 28,
   "id": "0229a436",
   "metadata": {},
   "outputs": [
    {
     "data": {
      "image/png": "[encoded data removed]",
      "text/plain": [
       "<Figure size 800x500 with 1 Axes>"
      ]
     },
     "metadata": {},
     "output_type": "display_data"
    }
   ],
   "source": [
    "# 3. Bar chart comparing average scores of male and female students\n",
    "plt.figure(figsize=(8, 5))\n",
    "sns.barplot(x=average_G3_by_gender.index, y=average_G3_by_gender.values)\n",
    "plt.xlabel(\"Gender\")\n",
    "plt.ylabel(\"Average Final Grade (G3)\")\n",
    "plt.title(\"Average Final Grade by Gender\")\n",
    "plt.show()"
   ]
  },
  {
   "cell_type": "markdown",
   "id": "8b2fc2f0",
   "metadata": {},
   "source": [
    "A bar chart is used to compare the average final grade (G3) between male and female students. This helps analyze if there is a significant gender-based difference in academic performance."
   ]
  },
  {
   "cell_type": "markdown",
   "id": "fcf8258d",
   "metadata": {},
   "source": [
    "# Conclusion and Insights"
   ]
  },
  {
   "cell_type": "markdown",
   "id": "bc118693",
   "metadata": {},
   "source": [
    "After performing the analysis and visualizations, we interpret the results:\n",
    "\n",
    "The average final grade is around 10.42., \n",
    "Only 40 students scored above 15., \n",
    "Study time has a weak positive correlation with G3 (~0.098), meaning studying more does not significantly improve grades., \n",
    "Males have a slightly higher average G3 than females.\n",
    "\n",
    "These insights help in understanding the factors affecting student performance."
   ]
  },
  {
   "cell_type": "code",
   "execution_count": null,
   "id": "6c029c94",
   "metadata": {},
   "outputs": [],
   "source": []
  }
 ],
 "metadata": {
  "kernelspec": {
   "display_name": "Python 3 (ipykernel)",
   "language": "python",
   "name": "python3"
  },
  "language_info": {
   "codemirror_mode": {
    "name": "ipython",
    "version": 3
   },
   "file_extension": ".py",
   "mimetype": "text/x-python",
   "name": "python",
   "nbconvert_exporter": "python",
   "pygments_lexer": "ipython3",
   "version": "3.11.5"
  }
 },
 "nbformat": 4,
 "nbformat_minor": 5
}
